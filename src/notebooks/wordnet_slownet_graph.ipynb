{
 "cells": [
  {
   "cell_type": "code",
   "execution_count": 1,
   "metadata": {
    "collapsed": true
   },
   "outputs": [],
   "source": [
    "import pickle\n",
    "import time\n",
    "import networkx as nx\n",
    "from networkx import Graph"
   ]
  },
  {
   "cell_type": "code",
   "execution_count": 5,
   "outputs": [
    {
     "name": "stdout",
     "output_type": "stream",
     "text": [
      "Loading graph...\n",
      "Time taken to load graph: 4.030356168746948\n",
      "\n",
      "Number of nodes in WordNet graph: 117658\n",
      "Number of nodes in SlowNet subgraph: 42717\n"
     ]
    }
   ],
   "source": [
    "wordnet_slownet_graph_filepath = '../../res/wordnet_slownet.graph'\n",
    "\n",
    "start = time.time()\n",
    "\n",
    "print(\"Loading graph...\")\n",
    "wordnet_graph: Graph = pickle.load(open(wordnet_slownet_graph_filepath, 'rb'))\n",
    "slownet_graph: Graph = wordnet_graph.subgraph(\n",
    "    [node for node in wordnet_graph.nodes if len(wordnet_graph.nodes[node][\"slo_literals\"]) > 0])\n",
    "\n",
    "print(\"Time taken to load graph:\", time.time() - start)\n",
    "print(\"\\nNumber of nodes in WordNet graph:\", len(wordnet_graph.nodes))\n",
    "print(\"Number of nodes in SlowNet subgraph:\", len(slownet_graph.nodes))"
   ],
   "metadata": {
    "collapsed": false
   }
  },
  {
   "cell_type": "code",
   "execution_count": 6,
   "outputs": [
    {
     "name": "stdout",
     "output_type": "stream",
     "text": [
      "Number of isolates in WordNet graph: 1009\n",
      "Number of connected components in SlowNet subgraph: 4037\n"
     ]
    }
   ],
   "source": [
    "print(\"Number of isolates in WordNet graph:\", len(list(nx.isolates(wordnet_graph))))\n",
    "print(\"Number of connected components in SlowNet subgraph:\", len(list(nx.connected_components(slownet_graph))))"
   ],
   "metadata": {
    "collapsed": false
   }
  }
 ],
 "metadata": {
  "kernelspec": {
   "display_name": "Python 3",
   "language": "python",
   "name": "python3"
  },
  "language_info": {
   "codemirror_mode": {
    "name": "ipython",
    "version": 2
   },
   "file_extension": ".py",
   "mimetype": "text/x-python",
   "name": "python",
   "nbconvert_exporter": "python",
   "pygments_lexer": "ipython2",
   "version": "2.7.6"
  }
 },
 "nbformat": 4,
 "nbformat_minor": 0
}
